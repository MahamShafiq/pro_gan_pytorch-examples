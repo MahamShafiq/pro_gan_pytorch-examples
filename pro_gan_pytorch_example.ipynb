{
  "nbformat": 4,
  "nbformat_minor": 0,
  "metadata": {
    "colab": {
      "name": "pro_gan_pytorch-example.ipynb",
      "version": "0.3.2",
      "provenance": [],
      "collapsed_sections": [],
      "include_colab_link": true
    },
    "kernelspec": {
      "name": "python3",
      "display_name": "Python 3"
    },
    "accelerator": "GPU"
  },
  "cells": [
    {
      "cell_type": "markdown",
      "metadata": {
        "id": "view-in-github",
        "colab_type": "text"
      },
      "source": [
        "<a href=\"https://colab.research.google.com/github/Ianmcmill/pro_gan_pytorch-examples/blob/master/pro_gan_pytorch_example.ipynb\" target=\"_parent\"><img src=\"https://colab.research.google.com/assets/colab-badge.svg\" alt=\"Open In Colab\"/></a>"
      ]
    },
    {
      "metadata": {
        "id": "5MgqzKUjayp9",
        "colab_type": "text"
      },
      "cell_type": "markdown",
      "source": [
        "<h1>Running ProGAN Pytorch on Google Colab</h1>\n",
        "ProGAN Pytorch package by [Akanimax](https://github.com/akanimax). Colab Notebook by Ianmcmill.\n",
        "This is a step-by-step instruction on how to initially setup ProGAN on your Google Drive/Colab."
      ]
    },
    {
      "metadata": {
        "id": "oeej5P31ecen",
        "colab_type": "text"
      },
      "cell_type": "markdown",
      "source": [
        "1. Switch to a GPU runtime. At the top of the notebook click \"Runtime\" - \"Change runtime type\" - choose \"Python 3\" & \"GPU\" for Hardware acceleration."
      ]
    },
    {
      "metadata": {
        "id": "XHhHbLiJbulm",
        "colab_type": "text"
      },
      "cell_type": "markdown",
      "source": [
        "2. Install the python package."
      ]
    },
    {
      "metadata": {
        "id": "YO2Z-jMO_mSR",
        "colab_type": "code",
        "colab": {}
      },
      "cell_type": "code",
      "source": [
        "!pip3 install pro-gan-pth"
      ],
      "execution_count": 0,
      "outputs": []
    },
    {
      "metadata": {
        "id": "vgahzclrbzIF",
        "colab_type": "text"
      },
      "cell_type": "markdown",
      "source": [
        "3. Mount your Google Drive for persistently saving training results."
      ]
    },
    {
      "metadata": {
        "id": "hWZ1QhaCA_aH",
        "colab_type": "code",
        "colab": {}
      },
      "cell_type": "code",
      "source": [
        "from google.colab import drive\n",
        "drive.mount('/content/drive')"
      ],
      "execution_count": 0,
      "outputs": []
    },
    {
      "metadata": {
        "id": "5W_Ib4XscfFt",
        "colab_type": "text"
      },
      "cell_type": "markdown",
      "source": [
        "4. Prepare Google Drive and git clone the pro_gan_pytorch-examples This repository contains scripts to train the network "
      ]
    },
    {
      "metadata": {
        "id": "RAZcLy-xcCMt",
        "colab_type": "text"
      },
      "cell_type": "markdown",
      "source": [
        ">4.1. Navigate to your Google Drive."
      ]
    },
    {
      "metadata": {
        "id": "glglIo5D3IKs",
        "colab_type": "code",
        "colab": {}
      },
      "cell_type": "code",
      "source": [
        "cd drive/My\\ Drive/"
      ],
      "execution_count": 0,
      "outputs": []
    },
    {
      "metadata": {
        "id": "fxlPfMfYccKU",
        "colab_type": "text"
      },
      "cell_type": "markdown",
      "source": [
        ">4.2 Git clone the example repo"
      ]
    },
    {
      "metadata": {
        "id": "7iuHXv1FcWIh",
        "colab_type": "code",
        "colab": {}
      },
      "cell_type": "code",
      "source": [
        "!git clone https://github.com/akanimax/pro_gan_pytorch-examples.git\n",
        "cd pro_gan_pytorch-examples"
      ],
      "execution_count": 0,
      "outputs": []
    },
    {
      "metadata": {
        "id": "r0-9swTfdDd_",
        "colab_type": "text"
      },
      "cell_type": "markdown",
      "source": [
        ">4.3 **Outside** of this notebook, upload your dataset to the /data folder inside the cloned git. This can be done using the **Google Drive interface**.\n",
        "Uploading a ZIP file is recommended. The unzipping is done in the colab notebook."
      ]
    },
    {
      "metadata": {
        "id": "uNVkWWpHdkRT",
        "colab_type": "text"
      },
      "cell_type": "markdown",
      "source": [
        "Navigate to the /data folder where you uploaded you dataset.\n",
        "Use !unzip"
      ]
    },
    {
      "metadata": {
        "id": "2EGnSy8Icbne",
        "colab_type": "code",
        "colab": {}
      },
      "cell_type": "code",
      "source": [
        "cd data"
      ],
      "execution_count": 0,
      "outputs": []
    },
    {
      "metadata": {
        "id": "G6fQBtOzGbo9",
        "colab_type": "code",
        "colab": {}
      },
      "cell_type": "code",
      "source": [
        "!unzip YOUR-DATASET-FILE.zip"
      ],
      "execution_count": 0,
      "outputs": []
    },
    {
      "metadata": {
        "id": "mMOJYr2JeA8J",
        "colab_type": "text"
      },
      "cell_type": "markdown",
      "source": [
        "After unzipping delete the zip to free up Drive space."
      ]
    },
    {
      "metadata": {
        "id": "udt5KhJzGL6X",
        "colab_type": "text"
      },
      "cell_type": "markdown",
      "source": [
        "5. Creating a config file is the same as for running your model locally. "
      ]
    },
    {
      "metadata": {
        "id": "cprfpLF8eTEG",
        "colab_type": "text"
      },
      "cell_type": "markdown",
      "source": [
        "6. Navigate to the `implementation` folder and start your training.\n",
        "Note that you always need a \"!\" infront of a command else you will get an error."
      ]
    },
    {
      "metadata": {
        "id": "8p0bBdeKeSFc",
        "colab_type": "code",
        "colab": {}
      },
      "cell_type": "code",
      "source": [
        "!python train_network.py --config=configs/yourconfigfile.conf"
      ],
      "execution_count": 0,
      "outputs": []
    }
  ]
}